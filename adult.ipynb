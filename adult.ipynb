{
 "cells": [
  {
   "cell_type": "code",
   "execution_count": null,
   "metadata": {},
   "outputs": [],
   "source": [
    "import pandas as pd\n",
    "import numpy as np\n",
    "import matplotlib.pyplot as plt\n",
    "from sklearn.model_selection import train_test_split\n",
    "from sklearn.preprocessing import StandardScaler\n",
    "from sklearn.model_selection import learning_curve\n",
    "from sklearn.model_selection import validation_curve\n",
    "from ucimlrepo import fetch_ucirepo "
   ]
  },
  {
   "cell_type": "code",
   "execution_count": null,
   "metadata": {},
   "outputs": [],
   "source": [
    "adult = fetch_ucirepo(id=2) \n",
    "\n",
    "# data (as pandas dataframes) \n",
    "x_adult = adult.data.features.copy() \n",
    "y_adult  = adult.data.targets.copy()"
   ]
  },
  {
   "cell_type": "code",
   "execution_count": null,
   "metadata": {},
   "outputs": [],
   "source": [
    "#x_adult.head()\n",
    "#y_adult.head()"
   ]
  },
  {
   "cell_type": "code",
   "execution_count": null,
   "metadata": {},
   "outputs": [],
   "source": [
    "y_adult['income'] = y_adult['income'].str.strip('.')"
   ]
  },
  {
   "cell_type": "code",
   "execution_count": null,
   "metadata": {},
   "outputs": [],
   "source": [
    "# Merge features and target\n",
    "adult_data = pd.concat([x_adult, y_adult], axis=1)"
   ]
  },
  {
   "cell_type": "code",
   "execution_count": null,
   "metadata": {},
   "outputs": [],
   "source": [
    "for column in ['workclass', 'occupation', 'native-country']:\n",
    "    adult_data.loc[adult_data[column] == '?', column] = float('nan')  # Replace '?' with NaN\n",
    "    mode_value = adult_data[column].mode()[0]\n",
    "    adult_data.loc[:, column] = adult_data[column].fillna(mode_value)"
   ]
  },
  {
   "cell_type": "code",
   "execution_count": null,
   "metadata": {},
   "outputs": [],
   "source": [
    "from sklearn.preprocessing import LabelEncoder\n",
    "\n",
    "label = LabelEncoder()\n",
    "adult_data['sex'] = label.fit_transform(adult_data['sex'])\n",
    "adult_data['income'] = label.fit_transform(adult_data['income'])"
   ]
  },
  {
   "cell_type": "code",
   "execution_count": null,
   "metadata": {},
   "outputs": [],
   "source": [
    "adult_data = pd.get_dummies(adult_data, columns=['workclass', 'marital-status','education', 'occupation','relationship', 'race', 'native-country'], drop_first=True)"
   ]
  },
  {
   "cell_type": "code",
   "execution_count": null,
   "metadata": {},
   "outputs": [],
   "source": [
    "X_adult = adult_data.drop('income', axis=1)\n",
    "y_adult = adult_data['income']"
   ]
  },
  {
   "cell_type": "code",
   "execution_count": null,
   "metadata": {},
   "outputs": [],
   "source": [
    "X_adult_train, X_adult_test, y_adult_train, y_adult_test = train_test_split(X_adult, y_adult, test_size=0.20, random_state=42)"
   ]
  },
  {
   "cell_type": "code",
   "execution_count": null,
   "metadata": {},
   "outputs": [],
   "source": [
    "# Standardize the data\n",
    "scaler = StandardScaler()\n",
    "X_adult_train = scaler.fit_transform(X_adult_train)\n",
    "X_adult_test = scaler.transform(X_adult_test)"
   ]
  },
  {
   "cell_type": "code",
   "execution_count": null,
   "metadata": {},
   "outputs": [],
   "source": [
    "# Sampling technique\n",
    "\n",
    "'''\n",
    "from imblearn.under_sampling import RandomUnderSampler\n",
    "from imblearn.over_sampling import SMOTE\n",
    "\n",
    "\n",
    "\n",
    "\n",
    "\n",
    "smote = SMOTE(random_state=43)\n",
    "X_adult_train, y_adult_train = smote.fit_resample(X_adult_train, y_adult_train)'''"
   ]
  },
  {
   "cell_type": "code",
   "execution_count": null,
   "metadata": {},
   "outputs": [],
   "source": [
    "from sklearn.model_selection import cross_val_score"
   ]
  },
  {
   "cell_type": "code",
   "execution_count": null,
   "metadata": {},
   "outputs": [],
   "source": [
    "def plot_learning_curve(estimator, X, y, train_sizes, cv=5, scoring='f1_macro'):\n",
    "    train_sizes, train_scores, val_scores = learning_curve(estimator, X, y, train_sizes=train_sizes, cv=cv, scoring=scoring, n_jobs=-1)\n",
    "    \n",
    "    train_scores_mean = np.mean(train_scores, axis=1)\n",
    "    train_scores_std = np.std(train_scores, axis=1)\n",
    "    val_scores_mean = np.mean(val_scores, axis=1)\n",
    "    val_scores_std = np.std(val_scores, axis=1)\n",
    "    \n",
    "    plt.figure(figsize=(8, 6))\n",
    "    plt.plot(train_sizes, train_scores_mean, label='Training score')\n",
    "    plt.plot(train_sizes, val_scores_mean, label='Validation score')\n",
    "    plt.fill_between(train_sizes, train_scores_mean - train_scores_std, train_scores_mean + train_scores_std, alpha=0.1)\n",
    "    plt.fill_between(train_sizes, val_scores_mean - val_scores_std, val_scores_mean + val_scores_std, alpha=0.1)\n",
    "    plt.xlabel('Training examples')\n",
    "    plt.ylabel(scoring)\n",
    "    plt.title(f'Learning Curve ({type(estimator).__name__})')\n",
    "    plt.legend(loc='best')\n",
    "    plt.grid(True, linestyle='--', linewidth=0.5)\n",
    "    plt.show()\n",
    "    print(scoring)"
   ]
  },
  {
   "cell_type": "markdown",
   "metadata": {},
   "source": [
    "NN Adult"
   ]
  },
  {
   "cell_type": "code",
   "execution_count": null,
   "metadata": {},
   "outputs": [],
   "source": [
    "import numpy as np\n",
    "import matplotlib.pyplot as plt\n",
    "import time\n",
    "from sklearn.model_selection import validation_curve\n",
    "from sklearn.neural_network import MLPClassifier\n",
    "\n",
    "\n",
    "param_ranges = {\n",
    "    \"hidden_layer_sizes\": [50, 100, 150, 200],\n",
    "    \"alpha\": [0.0001, 0.001, 0.01, 0.1],\n",
    "    \"learning_rate_init\": [0.001, 0.01, 0.1],\n",
    "    \"activation\": ['identity', 'logistic', 'tanh', 'relu'],\n",
    "    \"max_iter\": [500, 1000, 1500, 2000]\n",
    "}\n",
    "\n",
    "timing_results = {}\n",
    "scores_results = {}\n",
    "\n",
    "fig, axes = plt.subplots(1, 5, figsize=(20, 6))\n",
    "axes = axes.flatten()\n",
    "\n",
    "for idx, (param_name, param_range) in enumerate(param_ranges.items()):\n",
    "    start_time = time.time()\n",
    "    \n",
    "    # Adjust parameter input format for hidden_layer_sizes\n",
    "    if param_name == \"hidden_layer_sizes\":\n",
    "        actual_param_range = [(size,50) for size in param_range]\n",
    "    else:\n",
    "        actual_param_range = param_range\n",
    "\n",
    "    train_scores, test_scores = validation_curve(\n",
    "        MLPClassifier(random_state=43), X_adult_train, y_adult_train, \n",
    "        param_name=param_name, param_range=actual_param_range, cv=5, \n",
    "        scoring=\"f1_macro\", n_jobs=-1\n",
    "    )\n",
    "    \n",
    "    end_time = time.time()\n",
    "    duration = end_time - start_time\n",
    "    timing_results[param_name] = duration\n",
    "    scores_results[param_name] = (train_scores, test_scores)\n",
    "\n",
    "    train_scores_mean = np.mean(train_scores, axis=1)\n",
    "    train_scores_std = np.std(train_scores, axis=1)\n",
    "    test_scores_mean = np.mean(test_scores, axis=1)\n",
    "    test_scores_std = np.std(test_scores, axis=1)\n",
    "\n",
    "    ax = axes[idx]\n",
    "    ax.plot(param_range, train_scores_mean, label=\"Training score\", color=\"darkorange\")\n",
    "    ax.fill_between(param_range, train_scores_mean - train_scores_std, train_scores_mean + train_scores_std, alpha=0.2, color=\"darkorange\")\n",
    "    ax.plot(param_range, test_scores_mean, label=\"Cross-validation score\", color=\"navy\")\n",
    "    ax.fill_between(param_range, test_scores_mean - test_scores_std, test_scores_mean + test_scores_std, alpha=0.2, color=\"navy\")\n",
    "    \n",
    "    if param_name == \"hidden_layer_sizes\":\n",
    "        ax.set_title(f\"Validation Curve - {'hidden_layer_nodes'}\")\n",
    "    ax.set_title(f\"Validation Curve - {param_name}\")\n",
    "    ax.set_xlabel(param_name)\n",
    "    ax.set_ylabel(\"F1 Score\")\n",
    "    ax.legend(loc=\"best\")\n",
    "    ax.grid(True, linestyle='--', linewidth=0.5)\n",
    "\n",
    "plt.tight_layout()\n",
    "plt.show()\n",
    "\n",
    "print(\"Timing for each hyperparameter tuning:\")\n",
    "for param_name, duration in timing_results.items():\n",
    "    print(f\"{param_name}: {duration:.2f} seconds\")"
   ]
  },
  {
   "cell_type": "code",
   "execution_count": null,
   "metadata": {},
   "outputs": [],
   "source": [
    "nn_adult = MLPClassifier(hidden_layer_sizes=(100,), activation='relu' , alpha=0.001 , learning_rate_init=0.001, max_iter=1000,random_state=43)\n",
    "nn_scores = cross_val_score(nn_adult, X_adult_train, y_adult_train, cv=5, scoring='f1_macro', n_jobs=-1)\n",
    "print(f'Neural Network Cross-Validation F1 Score (Adult): {np.mean(nn_scores)}')"
   ]
  },
  {
   "cell_type": "code",
   "execution_count": null,
   "metadata": {},
   "outputs": [],
   "source": [
    "plot_learning_curve(nn_adult, X_adult_train, y_adult_train, np.linspace(0.1, 1.0, 10), cv=5)"
   ]
  },
  {
   "cell_type": "markdown",
   "metadata": {},
   "source": [
    "KNN Adult"
   ]
  },
  {
   "cell_type": "code",
   "execution_count": null,
   "metadata": {},
   "outputs": [],
   "source": [
    "from sklearn.neighbors import KNeighborsClassifier\n",
    "from sklearn.model_selection import validation_curve\n",
    "import numpy as np\n",
    "import matplotlib.pyplot as plt\n",
    "import time\n",
    "\n",
    "param_range_n_neighbors = range(1, 21)\n",
    "param_range_weights = ['uniform', 'distance']\n",
    "param_range_metric = ['euclidean', 'manhattan', 'minkowski']\n",
    "\n",
    "train_scores_dict = {}\n",
    "test_scores_dict = {}\n",
    "timing_results = {}\n",
    "\n",
    "hyperparameters = ['n_neighbors', 'weights', 'metric']\n",
    "param_ranges = [param_range_n_neighbors, param_range_weights, param_range_metric]\n",
    "\n",
    "\n",
    "for hyperparam, param_range in zip(hyperparameters, param_ranges):\n",
    "    start_time = time.time()\n",
    "    \n",
    "    if hyperparam in ['weights', 'metric']:\n",
    "        classifier = KNeighborsClassifier(n_neighbors=10)\n",
    "    else:\n",
    "        classifier = KNeighborsClassifier()\n",
    "        \n",
    "    train_scores, test_scores = validation_curve(\n",
    "        classifier, X_adult_train, y_adult_train, param_name=hyperparam,\n",
    "        param_range=param_range, cv=5, scoring=\"f1_macro\", n_jobs=-1\n",
    "    )\n",
    "    \n",
    "    end_time = time.time()\n",
    "    duration = end_time - start_time\n",
    "    timing_results[hyperparam] = duration\n",
    "    train_scores_dict[hyperparam] = train_scores\n",
    "    test_scores_dict[hyperparam] = test_scores\n",
    "\n",
    "fig, axes = plt.subplots(1, 3, figsize=(24, 6))\n",
    "axes = axes.flatten()\n",
    "\n",
    "for i, hyperparam in enumerate(hyperparameters):\n",
    "    train_scores = train_scores_dict[hyperparam]\n",
    "    test_scores = test_scores_dict[hyperparam]\n",
    "    param_range = param_ranges[i]\n",
    "\n",
    "    train_scores_mean = np.mean(train_scores, axis=1)\n",
    "    train_scores_std = np.std(train_scores, axis=1)\n",
    "    test_scores_mean = np.mean(test_scores, axis=1)\n",
    "    test_scores_std = np.std(test_scores, axis=1)\n",
    "\n",
    "    ax = axes[i]\n",
    "    ax.plot(param_range, train_scores_mean, label=\"Training score\", color=\"darkorange\", lw=2)\n",
    "    ax.fill_between(param_range, train_scores_mean - train_scores_std, train_scores_mean + train_scores_std, alpha=0.2, color=\"darkorange\")\n",
    "    ax.plot(param_range, test_scores_mean, label=\"Cross-validation score\", color=\"navy\", lw=2)\n",
    "    ax.fill_between(param_range, test_scores_mean - test_scores_std, test_scores_mean + test_scores_std, alpha=0.2, color=\"navy\")\n",
    "    \n",
    "    ax.set_title(f\"Validation Curve with KNN - {hyperparam}\")\n",
    "    ax.set_xlabel(hyperparam)\n",
    "    ax.set_ylabel(\"F1 Score\")  \n",
    "    ax.legend(loc=\"best\")\n",
    "    ax.grid(True, linestyle='--', linewidth=0.5)\n",
    "\n",
    "plt.tight_layout()\n",
    "plt.show()\n",
    "\n",
    "print(\"Timing for each hyperparameter tuning:\")\n",
    "for hyperparam, duration in timing_results.items():\n",
    "    print(f\"{hyperparam}: {duration:.2f} seconds\")\n"
   ]
  },
  {
   "cell_type": "code",
   "execution_count": null,
   "metadata": {},
   "outputs": [],
   "source": [
    "from sklearn.neighbors import KNeighborsClassifier\n",
    "\n",
    "knn_adult = KNeighborsClassifier(n_neighbors=5, weights='distance', metric='manhattan')\n",
    "\n",
    "knn_scores = cross_val_score(knn_adult, X_adult_train, y_adult_train, cv=5, scoring='f1_macro', n_jobs=-1)\n",
    "print(f'KNN Cross-Validation F1 Score (Adult): {np.mean(knn_scores)}')"
   ]
  },
  {
   "cell_type": "code",
   "execution_count": null,
   "metadata": {},
   "outputs": [],
   "source": []
  },
  {
   "cell_type": "code",
   "execution_count": null,
   "metadata": {},
   "outputs": [],
   "source": [
    "plot_learning_curve(knn_adult, X_adult_train, y_adult_train, np.linspace(0.1, 1.0, 10), cv=5)"
   ]
  },
  {
   "cell_type": "markdown",
   "metadata": {},
   "source": [
    "SVN Adult"
   ]
  },
  {
   "cell_type": "code",
   "execution_count": null,
   "metadata": {},
   "outputs": [],
   "source": [
    "from sklearn.svm import SVC\n",
    "from sklearn.model_selection import validation_curve\n",
    "import numpy as np\n",
    "import matplotlib.pyplot as plt\n",
    "\n",
    "param_range_C = [0.001, 0.01, 0.1, 1, 10, 100]\n",
    "param_range_gamma = [0.001, 0.01, 0.1, 1, 10, 100]\n",
    "param_range_kernel = ['linear', 'rbf', 'poly', 'sigmoid']\n",
    "\n",
    "train_scores_C, test_scores_C = validation_curve(\n",
    "    SVC(kernel='rbf'), X_adult_train, y_adult_train, param_name=\"C\",\n",
    "    param_range=param_range_C, cv=5, scoring=\"f1_macro\", n_jobs=-1)\n",
    "\n",
    "train_scores_gamma, test_scores_gamma = validation_curve(\n",
    "    SVC(kernel='rbf', C=1), X_adult_train, y_adult_train, param_name=\"gamma\",\n",
    "    param_range=param_range_gamma, cv=5, scoring=\"f1_macro\", n_jobs=-1)\n",
    "\n",
    "train_scores_kernel, test_scores_kernel = validation_curve(\n",
    "    SVC(C=1), X_adult_train, y_adult_train, param_name=\"kernel\",\n",
    "    param_range=param_range_kernel, cv=5, scoring=\"f1_macro\", n_jobs=-1)\n",
    "\n",
    "fig, axes = plt.subplots(1, 3, figsize=(20, 6))\n",
    "hyperparameters = ['C', 'gamma', 'kernel']\n",
    "param_ranges = [param_range_C, param_range_gamma, param_range_kernel]\n",
    "train_scores_list = [train_scores_C, train_scores_gamma, train_scores_kernel]\n",
    "test_scores_list = [test_scores_C, test_scores_gamma, test_scores_kernel]\n",
    "\n",
    "for i, (hyperparam, param_range, train_scores, test_scores, ax) in enumerate(zip(hyperparameters, param_ranges, train_scores_list, test_scores_list, axes)):\n",
    "    train_scores_mean = np.mean(train_scores, axis=1)\n",
    "    train_scores_std = np.std(train_scores, axis=1)\n",
    "    test_scores_mean = np.mean(test_scores, axis=1)\n",
    "    test_scores_std = np.std(test_scores, axis=1)\n",
    "    \n",
    "    ax.set_title(f\"Validation Curve with SVM - {hyperparam}\")\n",
    "    ax.set_xlabel(hyperparam)\n",
    "    ax.set_ylabel(\"F1 Score\")\n",
    "    ax.set_ylim(0.0, 1.1)\n",
    "    lw = 2\n",
    "    if hyperparam in ['C', 'gamma']:\n",
    "        ax.semilogx(param_range, train_scores_mean, label=\"Training score\", color=\"darkorange\", lw=lw)\n",
    "        ax.fill_between(param_range, train_scores_mean - train_scores_std, train_scores_mean + train_scores_std, alpha=0.2, color=\"darkorange\", lw=lw)\n",
    "        ax.semilogx(param_range, test_scores_mean, label=\"Cross-validation score\", color=\"navy\", lw=lw)\n",
    "        ax.fill_between(param_range, test_scores_mean - test_scores_std, test_scores_mean + test_scores_std, alpha=0.2, color=\"navy\", lw=lw)\n",
    "    else:\n",
    "        ax.plot(param_range, train_scores_mean, label=\"Training score\", color=\"darkorange\", lw=lw)\n",
    "        ax.fill_between(param_range, train_scores_mean - train_scores_std, train_scores_mean + train_scores_std, alpha=0.2, color=\"darkorange\", lw=lw)\n",
    "        ax.plot(param_range, test_scores_mean, label=\"Cross-validation score\", color=\"navy\", lw=lw)\n",
    "        ax.fill_between(param_range, test_scores_mean - test_scores_std, test_scores_mean + test_scores_std, alpha=0.2, color=\"navy\", lw=lw)\n",
    "    ax.legend(loc=\"best\")\n",
    "    ax.grid(True, linestyle='--', linewidth=0.5)\n",
    "\n",
    "plt.tight_layout()\n",
    "plt.show()"
   ]
  },
  {
   "cell_type": "code",
   "execution_count": null,
   "metadata": {},
   "outputs": [],
   "source": [
    "from sklearn.svm import SVC\n",
    "from sklearn.model_selection import cross_val_score\n",
    "\n",
    "svm_rbf_adult = SVC(kernel='linear', C=0.1,gamma=0.01, random_state=43)\n",
    "svm_scores = cross_val_score(svm_rbf_adult, X_adult_train, y_adult_train, cv=5)\n",
    "print(f'SVM Linear Kernel Cross-Validation F1 Score (Adult): {np.mean(svm_scores)}')"
   ]
  },
  {
   "cell_type": "code",
   "execution_count": null,
   "metadata": {},
   "outputs": [],
   "source": [
    "plot_learning_curve(svm_rbf_adult, X_adult_train, y_adult_train, np.linspace(0.1, 1.0, 10), cv=5)"
   ]
  }
 ],
 "metadata": {
  "kernelspec": {
   "display_name": "Python 3",
   "language": "python",
   "name": "python3"
  },
  "language_info": {
   "codemirror_mode": {
    "name": "ipython",
    "version": 3
   },
   "file_extension": ".py",
   "mimetype": "text/x-python",
   "name": "python",
   "nbconvert_exporter": "python",
   "pygments_lexer": "ipython3",
   "version": "3.11.9"
  }
 },
 "nbformat": 4,
 "nbformat_minor": 2
}
